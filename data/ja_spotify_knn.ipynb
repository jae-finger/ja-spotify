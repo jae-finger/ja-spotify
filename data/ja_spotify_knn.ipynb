{
 "cells": [
  {
   "cell_type": "code",
   "execution_count": 1,
   "metadata": {
    "collapsed": true
   },
   "outputs": [],
   "source": [
    "#Imports\n",
    "import pandas as pd"
   ]
  },
  {
   "cell_type": "code",
   "source": [
    "#Read in DF\n",
    "df = pd.read_csv(\"song_list.csv\")\n",
    "print(f'This dataframe looks like {df.shape} and has features of: {df.columns}')\n",
    "df.head()"
   ],
   "metadata": {
    "collapsed": false,
    "pycharm": {
     "name": "#%%\n"
    }
   },
   "execution_count": 8,
   "outputs": [
    {
     "name": "stdout",
     "output_type": "stream",
     "text": [
      "This dataframe looks like (130663, 17) and has features of: Index(['artist_name', 'track_id', 'track_name', 'acousticness', 'danceability',\n",
      "       'duration_ms', 'energy', 'instrumentalness', 'key', 'liveness',\n",
      "       'loudness', 'mode', 'speechiness', 'tempo', 'time_signature', 'valence',\n",
      "       'popularity'],\n",
      "      dtype='object')\n"
     ]
    },
    {
     "data": {
      "text/plain": "  artist_name                track_id  \\\n0          YG  2RM4jf1Xa9zPgMGRDiht8O   \n1          YG  1tHDG53xJNGsItRA3vfVgs   \n2       R3HAB  6Wosx2euFPMT14UXiWudMy   \n3  Chris Cooq  3J2Jpw61sO7l6Hc7qdYV91   \n4  Chris Cooq  2jbYvQCyPgX3CdmAzeVeuS   \n\n                                       track_name  acousticness  danceability  \\\n0  Big Bank feat. 2 Chainz, Big Sean, Nicki Minaj      0.005820         0.743   \n1                    BAND DRUM (feat. A$AP Rocky)      0.024400         0.846   \n2                                   Radio Silence      0.025000         0.603   \n3                                         Lactose      0.029400         0.800   \n4                             Same - Original mix      0.000035         0.783   \n\n   duration_ms  energy  instrumentalness  key  liveness  loudness  mode  \\\n0       238373   0.339             0.000    1    0.0812    -7.678     1   \n1       214800   0.557             0.000    8    0.2860    -7.259     1   \n2       138913   0.723             0.000    9    0.0824    -5.890     0   \n3       125381   0.579             0.912    5    0.0994   -12.118     0   \n4       124016   0.792             0.878    7    0.0332   -10.277     1   \n\n   speechiness    tempo  time_signature  valence  popularity  \n0       0.4090  203.927               4    0.118          15  \n1       0.4570  159.009               4    0.371           0  \n2       0.0454  114.966               4    0.382          56  \n3       0.0701  123.003               4    0.641           0  \n4       0.0661  120.047               4    0.928           0  ",
      "text/html": "<div>\n<style scoped>\n    .dataframe tbody tr th:only-of-type {\n        vertical-align: middle;\n    }\n\n    .dataframe tbody tr th {\n        vertical-align: top;\n    }\n\n    .dataframe thead th {\n        text-align: right;\n    }\n</style>\n<table border=\"1\" class=\"dataframe\">\n  <thead>\n    <tr style=\"text-align: right;\">\n      <th></th>\n      <th>artist_name</th>\n      <th>track_id</th>\n      <th>track_name</th>\n      <th>acousticness</th>\n      <th>danceability</th>\n      <th>duration_ms</th>\n      <th>energy</th>\n      <th>instrumentalness</th>\n      <th>key</th>\n      <th>liveness</th>\n      <th>loudness</th>\n      <th>mode</th>\n      <th>speechiness</th>\n      <th>tempo</th>\n      <th>time_signature</th>\n      <th>valence</th>\n      <th>popularity</th>\n    </tr>\n  </thead>\n  <tbody>\n    <tr>\n      <th>0</th>\n      <td>YG</td>\n      <td>2RM4jf1Xa9zPgMGRDiht8O</td>\n      <td>Big Bank feat. 2 Chainz, Big Sean, Nicki Minaj</td>\n      <td>0.005820</td>\n      <td>0.743</td>\n      <td>238373</td>\n      <td>0.339</td>\n      <td>0.000</td>\n      <td>1</td>\n      <td>0.0812</td>\n      <td>-7.678</td>\n      <td>1</td>\n      <td>0.4090</td>\n      <td>203.927</td>\n      <td>4</td>\n      <td>0.118</td>\n      <td>15</td>\n    </tr>\n    <tr>\n      <th>1</th>\n      <td>YG</td>\n      <td>1tHDG53xJNGsItRA3vfVgs</td>\n      <td>BAND DRUM (feat. A$AP Rocky)</td>\n      <td>0.024400</td>\n      <td>0.846</td>\n      <td>214800</td>\n      <td>0.557</td>\n      <td>0.000</td>\n      <td>8</td>\n      <td>0.2860</td>\n      <td>-7.259</td>\n      <td>1</td>\n      <td>0.4570</td>\n      <td>159.009</td>\n      <td>4</td>\n      <td>0.371</td>\n      <td>0</td>\n    </tr>\n    <tr>\n      <th>2</th>\n      <td>R3HAB</td>\n      <td>6Wosx2euFPMT14UXiWudMy</td>\n      <td>Radio Silence</td>\n      <td>0.025000</td>\n      <td>0.603</td>\n      <td>138913</td>\n      <td>0.723</td>\n      <td>0.000</td>\n      <td>9</td>\n      <td>0.0824</td>\n      <td>-5.890</td>\n      <td>0</td>\n      <td>0.0454</td>\n      <td>114.966</td>\n      <td>4</td>\n      <td>0.382</td>\n      <td>56</td>\n    </tr>\n    <tr>\n      <th>3</th>\n      <td>Chris Cooq</td>\n      <td>3J2Jpw61sO7l6Hc7qdYV91</td>\n      <td>Lactose</td>\n      <td>0.029400</td>\n      <td>0.800</td>\n      <td>125381</td>\n      <td>0.579</td>\n      <td>0.912</td>\n      <td>5</td>\n      <td>0.0994</td>\n      <td>-12.118</td>\n      <td>0</td>\n      <td>0.0701</td>\n      <td>123.003</td>\n      <td>4</td>\n      <td>0.641</td>\n      <td>0</td>\n    </tr>\n    <tr>\n      <th>4</th>\n      <td>Chris Cooq</td>\n      <td>2jbYvQCyPgX3CdmAzeVeuS</td>\n      <td>Same - Original mix</td>\n      <td>0.000035</td>\n      <td>0.783</td>\n      <td>124016</td>\n      <td>0.792</td>\n      <td>0.878</td>\n      <td>7</td>\n      <td>0.0332</td>\n      <td>-10.277</td>\n      <td>1</td>\n      <td>0.0661</td>\n      <td>120.047</td>\n      <td>4</td>\n      <td>0.928</td>\n      <td>0</td>\n    </tr>\n  </tbody>\n</table>\n</div>"
     },
     "execution_count": 8,
     "metadata": {},
     "output_type": "execute_result"
    }
   ]
  }
 ],
 "metadata": {
  "kernelspec": {
   "display_name": "Python 3",
   "language": "python",
   "name": "python3"
  },
  "language_info": {
   "codemirror_mode": {
    "name": "ipython",
    "version": 2
   },
   "file_extension": ".py",
   "mimetype": "text/x-python",
   "name": "python",
   "nbconvert_exporter": "python",
   "pygments_lexer": "ipython2",
   "version": "2.7.6"
  }
 },
 "nbformat": 4,
 "nbformat_minor": 0
}