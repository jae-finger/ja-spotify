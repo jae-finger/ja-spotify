{
 "cells": [
  {
   "cell_type": "code",
   "execution_count": 1,
   "metadata": {
    "collapsed": true
   },
   "outputs": [],
   "source": [
    "#Imports\n",
    "import sklearn\n",
    "import pandas as pd"
   ]
  },
  {
   "cell_type": "code",
   "source": [
    "#Read in DF\n",
    "songs = pd.read_csv(\"song_list.csv\")\n",
    "features = ['acousticness', 'danceability',\n",
    "       'duration_ms', 'energy', 'instrumentalness', 'key', 'liveness',\n",
    "       'loudness', 'mode', 'speechiness', 'tempo', 'time_signature', 'valence',\n",
    "       'popularity']\n",
    "print(f'This dataframe looks like {songs.shape} and has features of: {features}')\n",
    "songs.head()"
   ],
   "metadata": {
    "collapsed": false,
    "pycharm": {
     "name": "#%%\n"
    }
   },
   "execution_count": 2,
   "outputs": [
    {
     "name": "stdout",
     "output_type": "stream",
     "text": [
      "This dataframe looks like (130663, 17) and has features of: ['acousticness', 'danceability', 'duration_ms', 'energy', 'instrumentalness', 'key', 'liveness', 'loudness', 'mode', 'speechiness', 'tempo', 'time_signature', 'valence', 'popularity']\n"
     ]
    },
    {
     "data": {
      "text/plain": "  artist_name                track_id  \\\n0          YG  2RM4jf1Xa9zPgMGRDiht8O   \n1          YG  1tHDG53xJNGsItRA3vfVgs   \n2       R3HAB  6Wosx2euFPMT14UXiWudMy   \n3  Chris Cooq  3J2Jpw61sO7l6Hc7qdYV91   \n4  Chris Cooq  2jbYvQCyPgX3CdmAzeVeuS   \n\n                                       track_name  acousticness  danceability  \\\n0  Big Bank feat. 2 Chainz, Big Sean, Nicki Minaj      0.005820         0.743   \n1                    BAND DRUM (feat. A$AP Rocky)      0.024400         0.846   \n2                                   Radio Silence      0.025000         0.603   \n3                                         Lactose      0.029400         0.800   \n4                             Same - Original mix      0.000035         0.783   \n\n   duration_ms  energy  instrumentalness  key  liveness  loudness  mode  \\\n0       238373   0.339             0.000    1    0.0812    -7.678     1   \n1       214800   0.557             0.000    8    0.2860    -7.259     1   \n2       138913   0.723             0.000    9    0.0824    -5.890     0   \n3       125381   0.579             0.912    5    0.0994   -12.118     0   \n4       124016   0.792             0.878    7    0.0332   -10.277     1   \n\n   speechiness    tempo  time_signature  valence  popularity  \n0       0.4090  203.927               4    0.118          15  \n1       0.4570  159.009               4    0.371           0  \n2       0.0454  114.966               4    0.382          56  \n3       0.0701  123.003               4    0.641           0  \n4       0.0661  120.047               4    0.928           0  ",
      "text/html": "<div>\n<style scoped>\n    .dataframe tbody tr th:only-of-type {\n        vertical-align: middle;\n    }\n\n    .dataframe tbody tr th {\n        vertical-align: top;\n    }\n\n    .dataframe thead th {\n        text-align: right;\n    }\n</style>\n<table border=\"1\" class=\"dataframe\">\n  <thead>\n    <tr style=\"text-align: right;\">\n      <th></th>\n      <th>artist_name</th>\n      <th>track_id</th>\n      <th>track_name</th>\n      <th>acousticness</th>\n      <th>danceability</th>\n      <th>duration_ms</th>\n      <th>energy</th>\n      <th>instrumentalness</th>\n      <th>key</th>\n      <th>liveness</th>\n      <th>loudness</th>\n      <th>mode</th>\n      <th>speechiness</th>\n      <th>tempo</th>\n      <th>time_signature</th>\n      <th>valence</th>\n      <th>popularity</th>\n    </tr>\n  </thead>\n  <tbody>\n    <tr>\n      <th>0</th>\n      <td>YG</td>\n      <td>2RM4jf1Xa9zPgMGRDiht8O</td>\n      <td>Big Bank feat. 2 Chainz, Big Sean, Nicki Minaj</td>\n      <td>0.005820</td>\n      <td>0.743</td>\n      <td>238373</td>\n      <td>0.339</td>\n      <td>0.000</td>\n      <td>1</td>\n      <td>0.0812</td>\n      <td>-7.678</td>\n      <td>1</td>\n      <td>0.4090</td>\n      <td>203.927</td>\n      <td>4</td>\n      <td>0.118</td>\n      <td>15</td>\n    </tr>\n    <tr>\n      <th>1</th>\n      <td>YG</td>\n      <td>1tHDG53xJNGsItRA3vfVgs</td>\n      <td>BAND DRUM (feat. A$AP Rocky)</td>\n      <td>0.024400</td>\n      <td>0.846</td>\n      <td>214800</td>\n      <td>0.557</td>\n      <td>0.000</td>\n      <td>8</td>\n      <td>0.2860</td>\n      <td>-7.259</td>\n      <td>1</td>\n      <td>0.4570</td>\n      <td>159.009</td>\n      <td>4</td>\n      <td>0.371</td>\n      <td>0</td>\n    </tr>\n    <tr>\n      <th>2</th>\n      <td>R3HAB</td>\n      <td>6Wosx2euFPMT14UXiWudMy</td>\n      <td>Radio Silence</td>\n      <td>0.025000</td>\n      <td>0.603</td>\n      <td>138913</td>\n      <td>0.723</td>\n      <td>0.000</td>\n      <td>9</td>\n      <td>0.0824</td>\n      <td>-5.890</td>\n      <td>0</td>\n      <td>0.0454</td>\n      <td>114.966</td>\n      <td>4</td>\n      <td>0.382</td>\n      <td>56</td>\n    </tr>\n    <tr>\n      <th>3</th>\n      <td>Chris Cooq</td>\n      <td>3J2Jpw61sO7l6Hc7qdYV91</td>\n      <td>Lactose</td>\n      <td>0.029400</td>\n      <td>0.800</td>\n      <td>125381</td>\n      <td>0.579</td>\n      <td>0.912</td>\n      <td>5</td>\n      <td>0.0994</td>\n      <td>-12.118</td>\n      <td>0</td>\n      <td>0.0701</td>\n      <td>123.003</td>\n      <td>4</td>\n      <td>0.641</td>\n      <td>0</td>\n    </tr>\n    <tr>\n      <th>4</th>\n      <td>Chris Cooq</td>\n      <td>2jbYvQCyPgX3CdmAzeVeuS</td>\n      <td>Same - Original mix</td>\n      <td>0.000035</td>\n      <td>0.783</td>\n      <td>124016</td>\n      <td>0.792</td>\n      <td>0.878</td>\n      <td>7</td>\n      <td>0.0332</td>\n      <td>-10.277</td>\n      <td>1</td>\n      <td>0.0661</td>\n      <td>120.047</td>\n      <td>4</td>\n      <td>0.928</td>\n      <td>0</td>\n    </tr>\n  </tbody>\n</table>\n</div>"
     },
     "execution_count": 2,
     "metadata": {},
     "output_type": "execute_result"
    }
   ]
  },
  {
   "cell_type": "code",
   "execution_count": 3,
   "outputs": [
    {
     "data": {
      "text/plain": "Index(['artist_name', 'track_id', 'track_name', 'acousticness', 'danceability',\n       'duration_ms', 'energy', 'instrumentalness', 'key', 'liveness',\n       'loudness', 'mode', 'speechiness', 'tempo', 'time_signature', 'valence',\n       'popularity'],\n      dtype='object')"
     },
     "execution_count": 3,
     "metadata": {},
     "output_type": "execute_result"
    }
   ],
   "source": [
    "#There are no nas\n",
    "songs.isna().sum()\n",
    "songs.columns"
   ],
   "metadata": {
    "collapsed": false,
    "pycharm": {
     "name": "#%%\n"
    }
   }
  },
  {
   "cell_type": "code",
   "execution_count": 4,
   "outputs": [
    {
     "data": {
      "text/plain": "Index(['acousticness', 'danceability', 'duration_ms', 'energy',\n       'instrumentalness', 'key', 'liveness', 'loudness', 'mode',\n       'speechiness', 'tempo', 'time_signature', 'valence', 'popularity'],\n      dtype='object')"
     },
     "execution_count": 4,
     "metadata": {},
     "output_type": "execute_result"
    }
   ],
   "source": [
    "df = songs.copy()\n",
    "df = df.drop(columns=['artist_name', 'track_id', 'track_name'])\n",
    "df.columns"
   ],
   "metadata": {
    "collapsed": false,
    "pycharm": {
     "name": "#%%\n"
    }
   }
  },
  {
   "cell_type": "code",
   "execution_count": 10,
   "outputs": [
    {
     "data": {
      "text/plain": "   acousticness  danceability  duration_ms    energy  instrumentalness  \\\n0     -0.974080      0.849826     0.209005 -0.884312         -0.621709   \n1     -0.920325      1.391714     0.017595 -0.046852         -0.621709   \n2     -0.918589      0.113279    -0.598598  0.590848         -0.621709   \n3     -0.905859      1.149706    -0.708476  0.037663          1.909328   \n4     -0.990817      1.060268    -0.719560  0.855916          1.814969   \n\n        key  liveness  loudness      mode  speechiness     tempo  \\\n0 -1.174649 -0.677783  0.350838  0.803395     2.388752  2.800232   \n1  0.768345  0.543208  0.414862  0.803395     2.774832  1.310884   \n2  1.045915 -0.670628  0.624050 -1.244718    -0.535807 -0.149450   \n3 -0.064367 -0.569277 -0.327610 -1.244718    -0.337136  0.117033   \n4  0.490774 -0.963952 -0.046299  0.803395    -0.369310  0.019020   \n\n   time_signature   valence  popularity  \n0        0.235251 -1.241440   -0.467150  \n1        0.235251 -0.264902   -1.228065  \n2        0.235251 -0.222443    1.612683  \n3        0.235251  0.777254   -1.228065  \n4        0.235251  1.885026   -1.228065  ",
      "text/html": "<div>\n<style scoped>\n    .dataframe tbody tr th:only-of-type {\n        vertical-align: middle;\n    }\n\n    .dataframe tbody tr th {\n        vertical-align: top;\n    }\n\n    .dataframe thead th {\n        text-align: right;\n    }\n</style>\n<table border=\"1\" class=\"dataframe\">\n  <thead>\n    <tr style=\"text-align: right;\">\n      <th></th>\n      <th>acousticness</th>\n      <th>danceability</th>\n      <th>duration_ms</th>\n      <th>energy</th>\n      <th>instrumentalness</th>\n      <th>key</th>\n      <th>liveness</th>\n      <th>loudness</th>\n      <th>mode</th>\n      <th>speechiness</th>\n      <th>tempo</th>\n      <th>time_signature</th>\n      <th>valence</th>\n      <th>popularity</th>\n    </tr>\n  </thead>\n  <tbody>\n    <tr>\n      <th>0</th>\n      <td>-0.974080</td>\n      <td>0.849826</td>\n      <td>0.209005</td>\n      <td>-0.884312</td>\n      <td>-0.621709</td>\n      <td>-1.174649</td>\n      <td>-0.677783</td>\n      <td>0.350838</td>\n      <td>0.803395</td>\n      <td>2.388752</td>\n      <td>2.800232</td>\n      <td>0.235251</td>\n      <td>-1.241440</td>\n      <td>-0.467150</td>\n    </tr>\n    <tr>\n      <th>1</th>\n      <td>-0.920325</td>\n      <td>1.391714</td>\n      <td>0.017595</td>\n      <td>-0.046852</td>\n      <td>-0.621709</td>\n      <td>0.768345</td>\n      <td>0.543208</td>\n      <td>0.414862</td>\n      <td>0.803395</td>\n      <td>2.774832</td>\n      <td>1.310884</td>\n      <td>0.235251</td>\n      <td>-0.264902</td>\n      <td>-1.228065</td>\n    </tr>\n    <tr>\n      <th>2</th>\n      <td>-0.918589</td>\n      <td>0.113279</td>\n      <td>-0.598598</td>\n      <td>0.590848</td>\n      <td>-0.621709</td>\n      <td>1.045915</td>\n      <td>-0.670628</td>\n      <td>0.624050</td>\n      <td>-1.244718</td>\n      <td>-0.535807</td>\n      <td>-0.149450</td>\n      <td>0.235251</td>\n      <td>-0.222443</td>\n      <td>1.612683</td>\n    </tr>\n    <tr>\n      <th>3</th>\n      <td>-0.905859</td>\n      <td>1.149706</td>\n      <td>-0.708476</td>\n      <td>0.037663</td>\n      <td>1.909328</td>\n      <td>-0.064367</td>\n      <td>-0.569277</td>\n      <td>-0.327610</td>\n      <td>-1.244718</td>\n      <td>-0.337136</td>\n      <td>0.117033</td>\n      <td>0.235251</td>\n      <td>0.777254</td>\n      <td>-1.228065</td>\n    </tr>\n    <tr>\n      <th>4</th>\n      <td>-0.990817</td>\n      <td>1.060268</td>\n      <td>-0.719560</td>\n      <td>0.855916</td>\n      <td>1.814969</td>\n      <td>0.490774</td>\n      <td>-0.963952</td>\n      <td>-0.046299</td>\n      <td>0.803395</td>\n      <td>-0.369310</td>\n      <td>0.019020</td>\n      <td>0.235251</td>\n      <td>1.885026</td>\n      <td>-1.228065</td>\n    </tr>\n  </tbody>\n</table>\n</div>"
     },
     "execution_count": 10,
     "metadata": {},
     "output_type": "execute_result"
    }
   ],
   "source": [
    "from sklearn.pipeline import Pipeline\n",
    "from sklearn.preprocessing import StandardScaler\n",
    "\n",
    "steps = [('scaler', StandardScaler())]\n",
    "pipeline = Pipeline(steps)\n",
    "trans_df = pipeline.fit_transform(df)\n",
    "trans_df = pd.DataFrame(trans_df, columns=features)\n",
    "trans_df.head()\n"
   ],
   "metadata": {
    "collapsed": false,
    "pycharm": {
     "name": "#%%\n"
    }
   }
  }
 ],
 "metadata": {
  "kernelspec": {
   "display_name": "Python 3",
   "language": "python",
   "name": "python3"
  },
  "language_info": {
   "codemirror_mode": {
    "name": "ipython",
    "version": 2
   },
   "file_extension": ".py",
   "mimetype": "text/x-python",
   "name": "python",
   "nbconvert_exporter": "python",
   "pygments_lexer": "ipython2",
   "version": "2.7.6"
  }
 },
 "nbformat": 4,
 "nbformat_minor": 0
}