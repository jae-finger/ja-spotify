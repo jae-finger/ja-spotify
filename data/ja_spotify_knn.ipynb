{
 "cells": [
  {
   "cell_type": "code",
   "execution_count": 26,
   "metadata": {
    "collapsed": true
   },
   "outputs": [],
   "source": [
    "#Imports\n",
    "import sklearn\n",
    "import numpy as np\n",
    "import pandas as pd\n",
    "from sklearn.neighbors import NearestNeighbors\n",
    "from sklearn.pipeline import Pipeline\n",
    "from sklearn.preprocessing import StandardScaler"
   ]
  },
  {
   "cell_type": "markdown",
   "source": [
    "The overall plan is to:\n",
    "1. Run lookup() - which finds which song data to use based on a trackid json payload\n",
    "2. Run predict() - Preprocess the selected song and find k nearest neighbors' track ids\n",
    "3. Run deliver() - Takes k track ids from predict, finds the associated track ids, then sends it off as a json payload."
   ],
   "metadata": {
    "collapsed": false,
    "pycharm": {
     "name": "#%% md\n"
    }
   }
  },
  {
   "cell_type": "code",
   "source": [
    "#Read in DF\n",
    "songs = pd.read_csv(\"song_list.csv\")\n",
    "features = ['acousticness', 'danceability',\n",
    "       'duration_ms', 'energy', 'instrumentalness', 'key', 'liveness',\n",
    "       'loudness', 'mode', 'speechiness', 'tempo', 'time_signature', 'valence',\n",
    "       'popularity']\n",
    "print(f'This dataframe looks like {songs.shape} and has features of: {features}')\n",
    "songs.head()"
   ],
   "metadata": {
    "collapsed": false,
    "pycharm": {
     "name": "#%%\n"
    }
   },
   "execution_count": 17,
   "outputs": [
    {
     "name": "stdout",
     "output_type": "stream",
     "text": [
      "This dataframe looks like (130663, 17) and has features of: ['acousticness', 'danceability', 'duration_ms', 'energy', 'instrumentalness', 'key', 'liveness', 'loudness', 'mode', 'speechiness', 'tempo', 'time_signature', 'valence', 'popularity']\n"
     ]
    },
    {
     "data": {
      "text/plain": "  artist_name                track_id  \\\n0          YG  2RM4jf1Xa9zPgMGRDiht8O   \n1          YG  1tHDG53xJNGsItRA3vfVgs   \n2       R3HAB  6Wosx2euFPMT14UXiWudMy   \n3  Chris Cooq  3J2Jpw61sO7l6Hc7qdYV91   \n4  Chris Cooq  2jbYvQCyPgX3CdmAzeVeuS   \n\n                                       track_name  acousticness  danceability  \\\n0  Big Bank feat. 2 Chainz, Big Sean, Nicki Minaj      0.005820         0.743   \n1                    BAND DRUM (feat. A$AP Rocky)      0.024400         0.846   \n2                                   Radio Silence      0.025000         0.603   \n3                                         Lactose      0.029400         0.800   \n4                             Same - Original mix      0.000035         0.783   \n\n   duration_ms  energy  instrumentalness  key  liveness  loudness  mode  \\\n0       238373   0.339             0.000    1    0.0812    -7.678     1   \n1       214800   0.557             0.000    8    0.2860    -7.259     1   \n2       138913   0.723             0.000    9    0.0824    -5.890     0   \n3       125381   0.579             0.912    5    0.0994   -12.118     0   \n4       124016   0.792             0.878    7    0.0332   -10.277     1   \n\n   speechiness    tempo  time_signature  valence  popularity  \n0       0.4090  203.927               4    0.118          15  \n1       0.4570  159.009               4    0.371           0  \n2       0.0454  114.966               4    0.382          56  \n3       0.0701  123.003               4    0.641           0  \n4       0.0661  120.047               4    0.928           0  ",
      "text/html": "<div>\n<style scoped>\n    .dataframe tbody tr th:only-of-type {\n        vertical-align: middle;\n    }\n\n    .dataframe tbody tr th {\n        vertical-align: top;\n    }\n\n    .dataframe thead th {\n        text-align: right;\n    }\n</style>\n<table border=\"1\" class=\"dataframe\">\n  <thead>\n    <tr style=\"text-align: right;\">\n      <th></th>\n      <th>artist_name</th>\n      <th>track_id</th>\n      <th>track_name</th>\n      <th>acousticness</th>\n      <th>danceability</th>\n      <th>duration_ms</th>\n      <th>energy</th>\n      <th>instrumentalness</th>\n      <th>key</th>\n      <th>liveness</th>\n      <th>loudness</th>\n      <th>mode</th>\n      <th>speechiness</th>\n      <th>tempo</th>\n      <th>time_signature</th>\n      <th>valence</th>\n      <th>popularity</th>\n    </tr>\n  </thead>\n  <tbody>\n    <tr>\n      <th>0</th>\n      <td>YG</td>\n      <td>2RM4jf1Xa9zPgMGRDiht8O</td>\n      <td>Big Bank feat. 2 Chainz, Big Sean, Nicki Minaj</td>\n      <td>0.005820</td>\n      <td>0.743</td>\n      <td>238373</td>\n      <td>0.339</td>\n      <td>0.000</td>\n      <td>1</td>\n      <td>0.0812</td>\n      <td>-7.678</td>\n      <td>1</td>\n      <td>0.4090</td>\n      <td>203.927</td>\n      <td>4</td>\n      <td>0.118</td>\n      <td>15</td>\n    </tr>\n    <tr>\n      <th>1</th>\n      <td>YG</td>\n      <td>1tHDG53xJNGsItRA3vfVgs</td>\n      <td>BAND DRUM (feat. A$AP Rocky)</td>\n      <td>0.024400</td>\n      <td>0.846</td>\n      <td>214800</td>\n      <td>0.557</td>\n      <td>0.000</td>\n      <td>8</td>\n      <td>0.2860</td>\n      <td>-7.259</td>\n      <td>1</td>\n      <td>0.4570</td>\n      <td>159.009</td>\n      <td>4</td>\n      <td>0.371</td>\n      <td>0</td>\n    </tr>\n    <tr>\n      <th>2</th>\n      <td>R3HAB</td>\n      <td>6Wosx2euFPMT14UXiWudMy</td>\n      <td>Radio Silence</td>\n      <td>0.025000</td>\n      <td>0.603</td>\n      <td>138913</td>\n      <td>0.723</td>\n      <td>0.000</td>\n      <td>9</td>\n      <td>0.0824</td>\n      <td>-5.890</td>\n      <td>0</td>\n      <td>0.0454</td>\n      <td>114.966</td>\n      <td>4</td>\n      <td>0.382</td>\n      <td>56</td>\n    </tr>\n    <tr>\n      <th>3</th>\n      <td>Chris Cooq</td>\n      <td>3J2Jpw61sO7l6Hc7qdYV91</td>\n      <td>Lactose</td>\n      <td>0.029400</td>\n      <td>0.800</td>\n      <td>125381</td>\n      <td>0.579</td>\n      <td>0.912</td>\n      <td>5</td>\n      <td>0.0994</td>\n      <td>-12.118</td>\n      <td>0</td>\n      <td>0.0701</td>\n      <td>123.003</td>\n      <td>4</td>\n      <td>0.641</td>\n      <td>0</td>\n    </tr>\n    <tr>\n      <th>4</th>\n      <td>Chris Cooq</td>\n      <td>2jbYvQCyPgX3CdmAzeVeuS</td>\n      <td>Same - Original mix</td>\n      <td>0.000035</td>\n      <td>0.783</td>\n      <td>124016</td>\n      <td>0.792</td>\n      <td>0.878</td>\n      <td>7</td>\n      <td>0.0332</td>\n      <td>-10.277</td>\n      <td>1</td>\n      <td>0.0661</td>\n      <td>120.047</td>\n      <td>4</td>\n      <td>0.928</td>\n      <td>0</td>\n    </tr>\n  </tbody>\n</table>\n</div>"
     },
     "execution_count": 17,
     "metadata": {},
     "output_type": "execute_result"
    }
   ]
  },
  {
   "cell_type": "code",
   "execution_count": 18,
   "outputs": [
    {
     "data": {
      "text/plain": "Index(['artist_name', 'track_id', 'track_name', 'acousticness', 'danceability',\n       'duration_ms', 'energy', 'instrumentalness', 'key', 'liveness',\n       'loudness', 'mode', 'speechiness', 'tempo', 'time_signature', 'valence',\n       'popularity'],\n      dtype='object')"
     },
     "execution_count": 18,
     "metadata": {},
     "output_type": "execute_result"
    }
   ],
   "source": [
    "#There are no nas\n",
    "songs.isna().sum()\n",
    "songs.columns"
   ],
   "metadata": {
    "collapsed": false,
    "pycharm": {
     "name": "#%%\n"
    }
   }
  },
  {
   "cell_type": "code",
   "execution_count": 19,
   "outputs": [
    {
     "data": {
      "text/plain": "Index(['acousticness', 'danceability', 'duration_ms', 'energy',\n       'instrumentalness', 'key', 'liveness', 'loudness', 'mode',\n       'speechiness', 'tempo', 'time_signature', 'valence', 'popularity'],\n      dtype='object')"
     },
     "execution_count": 19,
     "metadata": {},
     "output_type": "execute_result"
    }
   ],
   "source": [
    "df = songs.copy()\n",
    "df = df.drop(columns=['artist_name', 'track_id', 'track_name'])\n",
    "df.columns"
   ],
   "metadata": {
    "collapsed": false,
    "pycharm": {
     "name": "#%%\n"
    }
   }
  },
  {
   "cell_type": "code",
   "execution_count": 20,
   "outputs": [],
   "source": [
    "steps = [('scaler', StandardScaler()), ('knn', NearestNeighbors(n_neighbors=3, algorithm='auto'))]\n",
    "pipeline = Pipeline(steps)\n",
    "trans_df = pipeline.fit(df)"
   ],
   "metadata": {
    "collapsed": false,
    "pycharm": {
     "name": "#%%\n"
    }
   }
  },
  {
   "cell_type": "code",
   "execution_count": 69,
   "outputs": [
    {
     "name": "stdout",
     "output_type": "stream",
     "text": [
      "       acousticness  danceability  duration_ms  energy  instrumentalness  key  \\\n",
      "22659        0.0544         0.777       323810   0.494               0.0   10   \n",
      "\n",
      "       liveness  loudness  mode  speechiness    tempo  time_signature  \\\n",
      "22659     0.114     -9.77     0       0.0984  125.873               4   \n",
      "\n",
      "       valence  popularity  \n",
      "22659     0.35          24  \n"
     ]
    },
    {
     "data": {
      "text/plain": "array([22659, 85426, 43695])"
     },
     "execution_count": 69,
     "metadata": {},
     "output_type": "execute_result"
    }
   ],
   "source": [
    "test1 = df.sample(1)\n",
    "print(test1)\n",
    "test1 = trans_df[0].transform(test1)\n",
    "rec_songs = trans_df[1].kneighbors(test1)\n",
    "rec_songs[1][0]"
   ],
   "metadata": {
    "collapsed": false,
    "pycharm": {
     "name": "#%%\n"
    }
   }
  },
  {
   "cell_type": "code",
   "execution_count": 68,
   "outputs": [
    {
     "name": "stdout",
     "output_type": "stream",
     "text": [
      "artist_name                     Gagan Sran\n",
      "track_id            5r3hhnAhMgovYagXudUp39\n",
      "track_name                   Down to Earth\n",
      "acousticness                         0.185\n",
      "danceability                         0.693\n",
      "duration_ms                         215690\n",
      "energy                               0.888\n",
      "instrumentalness                         0\n",
      "key                                      2\n",
      "liveness                            0.0845\n",
      "loudness                            -2.128\n",
      "mode                                     1\n",
      "speechiness                          0.205\n",
      "tempo                              173.865\n",
      "time_signature                           4\n",
      "valence                              0.716\n",
      "popularity                               6\n",
      "Name: 101179, dtype: object\n",
      "artist_name                 Ajayvir Chhina\n",
      "track_id            0hxZBIASyEFOiMroOMxJ4b\n",
      "track_name                English Vinglish\n",
      "acousticness                         0.232\n",
      "danceability                         0.684\n",
      "duration_ms                         216185\n",
      "energy                               0.906\n",
      "instrumentalness                         0\n",
      "key                                      1\n",
      "liveness                            0.0611\n",
      "loudness                            -2.779\n",
      "mode                                     1\n",
      "speechiness                          0.173\n",
      "tempo                              175.969\n",
      "time_signature                           4\n",
      "valence                              0.774\n",
      "popularity                               0\n",
      "Name: 99694, dtype: object\n"
     ]
    }
   ],
   "source": [
    "print(songs.iloc[101179])\n",
    "print(songs.iloc[99694])\n",
    "\n",
    "\n",
    "\n",
    "\n",
    "\n"
   ],
   "metadata": {
    "collapsed": false,
    "pycharm": {
     "name": "#%%\n"
    }
   }
  }
 ],
 "metadata": {
  "kernelspec": {
   "display_name": "Python 3",
   "language": "python",
   "name": "python3"
  },
  "language_info": {
   "codemirror_mode": {
    "name": "ipython",
    "version": 2
   },
   "file_extension": ".py",
   "mimetype": "text/x-python",
   "name": "python",
   "nbconvert_exporter": "python",
   "pygments_lexer": "ipython2",
   "version": "2.7.6"
  }
 },
 "nbformat": 4,
 "nbformat_minor": 0
}